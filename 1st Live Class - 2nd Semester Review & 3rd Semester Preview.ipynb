{
 "cells": [
  {
   "cell_type": "markdown",
   "id": "07e12d37-8198-4ac9-8a3b-13d642cfe475",
   "metadata": {},
   "source": [
    "#### Congratulations!!!!!"
   ]
  },
  {
   "cell_type": "markdown",
   "id": "be535972-ad2e-45d9-9de2-4fc51ab4df12",
   "metadata": {},
   "source": [
    "##### Learning like a student to thinking like a data scientist"
   ]
  },
  {
   "cell_type": "markdown",
   "id": "21c0635d-4f14-437d-b6d0-92adada6f17b",
   "metadata": {},
   "source": [
    "#### Strategies for a Mindset Change"
   ]
  },
  {
   "cell_type": "markdown",
   "id": "6d661b40-000c-4c36-aa53-90b6cd55d82d",
   "metadata": {},
   "source": [
    "##### 1. Start thinking about problems, not just code"
   ]
  },
  {
   "cell_type": "code",
   "execution_count": null,
   "id": "7894b439-8bd5-4422-a458-740277075e0b",
   "metadata": {},
   "outputs": [],
   "source": [
    "# Student Mindset - Focused on code, syntax, libraries, or getting codes to work"
   ]
  },
  {
   "cell_type": "code",
   "execution_count": null,
   "id": "c7d262c3-2ee8-4768-8939-6a3d81365284",
   "metadata": {},
   "outputs": [],
   "source": [
    "# Data Scientist Mindset - Focus on solving problems and creating value with data"
   ]
  },
  {
   "cell_type": "markdown",
   "id": "d3a13533-be0d-4cf0-8b8a-a580d46cb235",
   "metadata": {},
   "source": [
    "##### 2. Learn to ask the right questions "
   ]
  },
  {
   "cell_type": "code",
   "execution_count": null,
   "id": "c071c61d-cdbe-402f-9047-88360f288155",
   "metadata": {},
   "outputs": [],
   "source": [
    "# When you see data: What questions can I answer with data?"
   ]
  },
  {
   "cell_type": "markdown",
   "id": "5fb68fa8-b2d7-4141-a3c9-10a0f4ea6627",
   "metadata": {},
   "source": [
    "##### 3. Adopt a data-first approach"
   ]
  },
  {
   "cell_type": "code",
   "execution_count": null,
   "id": "003aadb3-79fd-4754-91b7-202c8e7f11fb",
   "metadata": {},
   "outputs": [],
   "source": [
    "# Develop an intuition for your data"
   ]
  },
  {
   "cell_type": "markdown",
   "id": "f44ad307-b8ef-4be3-bb4f-7ada3d139696",
   "metadata": {},
   "source": [
    "##### 4. Focus on business impact"
   ]
  },
  {
   "cell_type": "code",
   "execution_count": null,
   "id": "a758ec03-df1f-4e42-a18d-111b7fc2b5c4",
   "metadata": {},
   "outputs": [],
   "source": [
    "# As you work on projects and assignments, always identify how your \n",
    "# work will impact business."
   ]
  },
  {
   "cell_type": "markdown",
   "id": "af317533-dcb6-4b0f-a0b5-b3303c4b995f",
   "metadata": {},
   "source": [
    "##### 5. Learn to communicate insights"
   ]
  },
  {
   "cell_type": "code",
   "execution_count": null,
   "id": "0ab0752c-d819-4984-afb3-15d7f7466c26",
   "metadata": {},
   "outputs": [],
   "source": [
    "# Bridge the gap between data and decision-making\n",
    "# Non-Technical Stakeholders"
   ]
  },
  {
   "cell_type": "markdown",
   "id": "ffd8f9ff-9bde-4386-9ab1-9e5836b156ea",
   "metadata": {},
   "source": [
    "##### 6. Embrace continuous learning"
   ]
  },
  {
   "cell_type": "code",
   "execution_count": null,
   "id": "bd4636db-794e-4bbe-a214-5aa336619cca",
   "metadata": {},
   "outputs": [],
   "source": [
    "# Your tools, frameworks, and models will become outdated. \n",
    "# What wouldn’t change is your ability to learn, and adapt"
   ]
  },
  {
   "cell_type": "markdown",
   "id": "f1a99862-cbea-4a43-9416-23003ce7d1f2",
   "metadata": {},
   "source": [
    "##### 7. Build a Portfolio with impactful projects"
   ]
  },
  {
   "cell_type": "code",
   "execution_count": null,
   "id": "0f6d468d-3597-4734-b650-24ca27347488",
   "metadata": {},
   "outputs": [],
   "source": [
    "# Projects that showcase your ability to solve real-world problems"
   ]
  },
  {
   "cell_type": "markdown",
   "id": "98cbbc0f-d64b-4b7d-9612-a9222a302e94",
   "metadata": {},
   "source": [
    "##### 8. Collaborate and Network"
   ]
  },
  {
   "cell_type": "code",
   "execution_count": null,
   "id": "add7c45d-68c2-4f8a-93de-9f73bd39a9cb",
   "metadata": {},
   "outputs": [],
   "source": [
    "# Data Science is not a solo journey"
   ]
  },
  {
   "cell_type": "markdown",
   "id": "10b3f2b9-9533-4a09-bdc3-c526b8091846",
   "metadata": {},
   "source": [
    "##### 9. Focus on explainability and responsibility "
   ]
  },
  {
   "cell_type": "code",
   "execution_count": null,
   "id": "c09ded92-e226-4f5e-b938-00656d562565",
   "metadata": {},
   "outputs": [],
   "source": [
    "# Interpretation and Ethics"
   ]
  },
  {
   "cell_type": "markdown",
   "id": "61a1f55b-d584-46e7-9779-aff7d2bd1410",
   "metadata": {},
   "source": [
    "##### 10. Prepare for the real-world"
   ]
  },
  {
   "cell_type": "code",
   "execution_count": null,
   "id": "31b422e7-45c1-4eaf-a828-95bc3ce527dc",
   "metadata": {},
   "outputs": [],
   "source": [
    "# The real world is messy, incomplete and it is always almost biased"
   ]
  },
  {
   "cell_type": "code",
   "execution_count": null,
   "id": "a9479c5c-033d-4847-8f97-9500a1c10f7b",
   "metadata": {},
   "outputs": [],
   "source": []
  },
  {
   "cell_type": "code",
   "execution_count": null,
   "id": "686182cc-0daa-427c-9f3f-5632e06fdc01",
   "metadata": {},
   "outputs": [],
   "source": []
  }
 ],
 "metadata": {
  "kernelspec": {
   "display_name": "Python [conda env:base] *",
   "language": "python",
   "name": "conda-base-py"
  },
  "language_info": {
   "codemirror_mode": {
    "name": "ipython",
    "version": 3
   },
   "file_extension": ".py",
   "mimetype": "text/x-python",
   "name": "python",
   "nbconvert_exporter": "python",
   "pygments_lexer": "ipython3",
   "version": "3.12.7"
  }
 },
 "nbformat": 4,
 "nbformat_minor": 5
}
